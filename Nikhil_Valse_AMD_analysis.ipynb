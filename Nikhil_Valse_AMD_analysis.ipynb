{
 "cells": [
  {
   "cell_type": "markdown",
   "metadata": {},
   "source": [
    "# Project 2. Financial Analysis with Python"
   ]
  },
  {
   "cell_type": "markdown",
   "metadata": {},
   "source": [
    "In financial analysis, it is a common practice to estimate or test claims on stocks' real mean return based on historical data called a sample. In this project, you will conduct statistical inference on the mean return of a stock of your choice. Please fill in your selection on [a Google sheet](https://docs.google.com/spreadsheets/d/15diyZL9XzbveSDpqZWtE01fMF5JJJ9AZrmbcvoVVRG8/edit?usp=sharing). Avoid repeating existing selections.\n",
    "\n",
    "This project consists of three parts. In Part 1, you will retrieve the stock and the S&P 500 Index's 3-year historical data, compute their daily log returns, and visualize the returns' distributions. You will also use the historical data to compute the coefficient of correlation between the daily log returns of the stock and the S&P 500 Index, and then estimate the stock's Beta (a measure of a stock's volatility) under the assumption that the S&P 500 Index represents the market.     \n",
    "\n",
    "In Part 2, you will use the historical data as a sample to build the 80 percent and 95 percent confidence intervals for the stock's (population) mean daily log return, respectively. Based on the confidence interval estimates, can you conclude that the (population) mean daily log return is positive?\n",
    "\n",
    "In Part 3, you will use the historical data to test the claim that the stock generates a higher (or a lower) mean daily log return than the S&P 500 Index at the significant levels of 5% and 10%, respectively. What conclusions can be drawn? \n",
    "\n",
    "In both Part 2 and Part 3, the normal distribution can be applied to approximate the t-distribution. "
   ]
  },
  {
   "cell_type": "code",
   "execution_count": 6,
   "metadata": {},
   "outputs": [],
   "source": [
    "import pandas_datareader.data as web\n",
    "import pandas as pd\n",
    "import numpy as np\n",
    "from datetime import datetime\n",
    "import scipy.stats as stats\n",
    "from scipy.stats import ttest_1samp\n",
    "import matplotlib.pyplot as plt\n",
    "from scipy.stats import norm\n",
    "import yfinance as yf\n",
    "%matplotlib inline"
   ]
  },
  {
   "cell_type": "markdown",
   "metadata": {},
   "source": [
    "## Part 1\n",
    "### Retrieving AMD and S&P500 historical 3 years data"
   ]
  },
  {
   "cell_type": "code",
   "execution_count": 7,
   "metadata": {},
   "outputs": [
    {
     "name": "stdout",
     "output_type": "stream",
     "text": [
      "[*********************100%***********************]  1 of 1 completed\n",
      "[*********************100%***********************]  1 of 1 completed\n"
     ]
    }
   ],
   "source": [
    "#Getting the past 3 years data for both the stock and S&P 500\n",
    "amd = yf.download('AMD',  '2019-12-04', '2022-12-02')\n",
    "sp500 = yf.download('SPY', '2019-12-04','2022-12-02')"
   ]
  },
  {
   "cell_type": "code",
   "execution_count": 8,
   "metadata": {},
   "outputs": [
    {
     "data": {
      "text/html": [
       "<div>\n",
       "<style scoped>\n",
       "    .dataframe tbody tr th:only-of-type {\n",
       "        vertical-align: middle;\n",
       "    }\n",
       "\n",
       "    .dataframe tbody tr th {\n",
       "        vertical-align: top;\n",
       "    }\n",
       "\n",
       "    .dataframe thead th {\n",
       "        text-align: right;\n",
       "    }\n",
       "</style>\n",
       "<table border=\"1\" class=\"dataframe\">\n",
       "  <thead>\n",
       "    <tr style=\"text-align: right;\">\n",
       "      <th></th>\n",
       "      <th>Open</th>\n",
       "      <th>High</th>\n",
       "      <th>Low</th>\n",
       "      <th>Close</th>\n",
       "      <th>Adj Close</th>\n",
       "      <th>Volume</th>\n",
       "    </tr>\n",
       "    <tr>\n",
       "      <th>Date</th>\n",
       "      <th></th>\n",
       "      <th></th>\n",
       "      <th></th>\n",
       "      <th></th>\n",
       "      <th></th>\n",
       "      <th></th>\n",
       "    </tr>\n",
       "  </thead>\n",
       "  <tbody>\n",
       "    <tr>\n",
       "      <th>2019-12-04</th>\n",
       "      <td>39.380001</td>\n",
       "      <td>39.820000</td>\n",
       "      <td>39.130001</td>\n",
       "      <td>39.689999</td>\n",
       "      <td>39.689999</td>\n",
       "      <td>44299400</td>\n",
       "    </tr>\n",
       "    <tr>\n",
       "      <th>2019-12-05</th>\n",
       "      <td>39.950001</td>\n",
       "      <td>40.220001</td>\n",
       "      <td>39.549999</td>\n",
       "      <td>39.619999</td>\n",
       "      <td>39.619999</td>\n",
       "      <td>35574000</td>\n",
       "    </tr>\n",
       "    <tr>\n",
       "      <th>2019-12-06</th>\n",
       "      <td>40.099998</td>\n",
       "      <td>40.189999</td>\n",
       "      <td>39.560001</td>\n",
       "      <td>39.630001</td>\n",
       "      <td>39.630001</td>\n",
       "      <td>31101400</td>\n",
       "    </tr>\n",
       "    <tr>\n",
       "      <th>2019-12-09</th>\n",
       "      <td>39.459999</td>\n",
       "      <td>39.840000</td>\n",
       "      <td>38.910000</td>\n",
       "      <td>38.930000</td>\n",
       "      <td>38.930000</td>\n",
       "      <td>27928100</td>\n",
       "    </tr>\n",
       "    <tr>\n",
       "      <th>2019-12-10</th>\n",
       "      <td>39.200001</td>\n",
       "      <td>39.730000</td>\n",
       "      <td>38.820000</td>\n",
       "      <td>39.439999</td>\n",
       "      <td>39.439999</td>\n",
       "      <td>33733600</td>\n",
       "    </tr>\n",
       "  </tbody>\n",
       "</table>\n",
       "</div>"
      ],
      "text/plain": [
       "                 Open       High        Low      Close  Adj Close    Volume\n",
       "Date                                                                       \n",
       "2019-12-04  39.380001  39.820000  39.130001  39.689999  39.689999  44299400\n",
       "2019-12-05  39.950001  40.220001  39.549999  39.619999  39.619999  35574000\n",
       "2019-12-06  40.099998  40.189999  39.560001  39.630001  39.630001  31101400\n",
       "2019-12-09  39.459999  39.840000  38.910000  38.930000  38.930000  27928100\n",
       "2019-12-10  39.200001  39.730000  38.820000  39.439999  39.439999  33733600"
      ]
     },
     "execution_count": 8,
     "metadata": {},
     "output_type": "execute_result"
    }
   ],
   "source": [
    "amd.head() "
   ]
  },
  {
   "cell_type": "code",
   "execution_count": 9,
   "metadata": {},
   "outputs": [
    {
     "data": {
      "text/html": [
       "<div>\n",
       "<style scoped>\n",
       "    .dataframe tbody tr th:only-of-type {\n",
       "        vertical-align: middle;\n",
       "    }\n",
       "\n",
       "    .dataframe tbody tr th {\n",
       "        vertical-align: top;\n",
       "    }\n",
       "\n",
       "    .dataframe thead th {\n",
       "        text-align: right;\n",
       "    }\n",
       "</style>\n",
       "<table border=\"1\" class=\"dataframe\">\n",
       "  <thead>\n",
       "    <tr style=\"text-align: right;\">\n",
       "      <th></th>\n",
       "      <th>Open</th>\n",
       "      <th>High</th>\n",
       "      <th>Low</th>\n",
       "      <th>Close</th>\n",
       "      <th>Adj Close</th>\n",
       "      <th>Volume</th>\n",
       "    </tr>\n",
       "    <tr>\n",
       "      <th>Date</th>\n",
       "      <th></th>\n",
       "      <th></th>\n",
       "      <th></th>\n",
       "      <th></th>\n",
       "      <th></th>\n",
       "      <th></th>\n",
       "    </tr>\n",
       "  </thead>\n",
       "  <tbody>\n",
       "    <tr>\n",
       "      <th>2022-11-25</th>\n",
       "      <td>75.669998</td>\n",
       "      <td>76.040001</td>\n",
       "      <td>74.750000</td>\n",
       "      <td>75.139999</td>\n",
       "      <td>75.139999</td>\n",
       "      <td>26018900</td>\n",
       "    </tr>\n",
       "    <tr>\n",
       "      <th>2022-11-28</th>\n",
       "      <td>73.809998</td>\n",
       "      <td>75.470001</td>\n",
       "      <td>72.570000</td>\n",
       "      <td>73.190002</td>\n",
       "      <td>73.190002</td>\n",
       "      <td>45383800</td>\n",
       "    </tr>\n",
       "    <tr>\n",
       "      <th>2022-11-29</th>\n",
       "      <td>73.620003</td>\n",
       "      <td>74.489998</td>\n",
       "      <td>72.779999</td>\n",
       "      <td>73.389999</td>\n",
       "      <td>73.389999</td>\n",
       "      <td>51846400</td>\n",
       "    </tr>\n",
       "    <tr>\n",
       "      <th>2022-11-30</th>\n",
       "      <td>73.379997</td>\n",
       "      <td>77.699997</td>\n",
       "      <td>72.809998</td>\n",
       "      <td>77.629997</td>\n",
       "      <td>77.629997</td>\n",
       "      <td>88468400</td>\n",
       "    </tr>\n",
       "    <tr>\n",
       "      <th>2022-12-01</th>\n",
       "      <td>78.309998</td>\n",
       "      <td>79.230003</td>\n",
       "      <td>76.440002</td>\n",
       "      <td>77.480003</td>\n",
       "      <td>77.480003</td>\n",
       "      <td>59833400</td>\n",
       "    </tr>\n",
       "  </tbody>\n",
       "</table>\n",
       "</div>"
      ],
      "text/plain": [
       "                 Open       High        Low      Close  Adj Close    Volume\n",
       "Date                                                                       \n",
       "2022-11-25  75.669998  76.040001  74.750000  75.139999  75.139999  26018900\n",
       "2022-11-28  73.809998  75.470001  72.570000  73.190002  73.190002  45383800\n",
       "2022-11-29  73.620003  74.489998  72.779999  73.389999  73.389999  51846400\n",
       "2022-11-30  73.379997  77.699997  72.809998  77.629997  77.629997  88468400\n",
       "2022-12-01  78.309998  79.230003  76.440002  77.480003  77.480003  59833400"
      ]
     },
     "execution_count": 9,
     "metadata": {},
     "output_type": "execute_result"
    }
   ],
   "source": [
    "amd.tail()"
   ]
  },
  {
   "cell_type": "code",
   "execution_count": 362,
   "metadata": {},
   "outputs": [
    {
     "data": {
      "text/html": [
       "<div>\n",
       "<style scoped>\n",
       "    .dataframe tbody tr th:only-of-type {\n",
       "        vertical-align: middle;\n",
       "    }\n",
       "\n",
       "    .dataframe tbody tr th {\n",
       "        vertical-align: top;\n",
       "    }\n",
       "\n",
       "    .dataframe thead th {\n",
       "        text-align: right;\n",
       "    }\n",
       "</style>\n",
       "<table border=\"1\" class=\"dataframe\">\n",
       "  <thead>\n",
       "    <tr style=\"text-align: right;\">\n",
       "      <th></th>\n",
       "      <th>High</th>\n",
       "      <th>Low</th>\n",
       "      <th>Open</th>\n",
       "      <th>Close</th>\n",
       "      <th>Volume</th>\n",
       "      <th>Adj Close</th>\n",
       "    </tr>\n",
       "    <tr>\n",
       "      <th>Date</th>\n",
       "      <th></th>\n",
       "      <th></th>\n",
       "      <th></th>\n",
       "      <th></th>\n",
       "      <th></th>\n",
       "      <th></th>\n",
       "    </tr>\n",
       "  </thead>\n",
       "  <tbody>\n",
       "    <tr>\n",
       "      <th>2019-12-04</th>\n",
       "      <td>312.119995</td>\n",
       "      <td>310.320007</td>\n",
       "      <td>310.700012</td>\n",
       "      <td>311.459991</td>\n",
       "      <td>49080000.0</td>\n",
       "      <td>296.815399</td>\n",
       "    </tr>\n",
       "    <tr>\n",
       "      <th>2019-12-05</th>\n",
       "      <td>312.250000</td>\n",
       "      <td>310.579987</td>\n",
       "      <td>312.230011</td>\n",
       "      <td>312.019989</td>\n",
       "      <td>40709000.0</td>\n",
       "      <td>297.349091</td>\n",
       "    </tr>\n",
       "    <tr>\n",
       "      <th>2019-12-06</th>\n",
       "      <td>315.309998</td>\n",
       "      <td>314.109985</td>\n",
       "      <td>314.119995</td>\n",
       "      <td>314.869995</td>\n",
       "      <td>48927000.0</td>\n",
       "      <td>300.065094</td>\n",
       "    </tr>\n",
       "    <tr>\n",
       "      <th>2019-12-09</th>\n",
       "      <td>315.179993</td>\n",
       "      <td>313.799988</td>\n",
       "      <td>314.440002</td>\n",
       "      <td>313.880005</td>\n",
       "      <td>34838500.0</td>\n",
       "      <td>299.121643</td>\n",
       "    </tr>\n",
       "    <tr>\n",
       "      <th>2019-12-10</th>\n",
       "      <td>314.549988</td>\n",
       "      <td>312.809998</td>\n",
       "      <td>313.820007</td>\n",
       "      <td>313.529999</td>\n",
       "      <td>52649800.0</td>\n",
       "      <td>298.788116</td>\n",
       "    </tr>\n",
       "  </tbody>\n",
       "</table>\n",
       "</div>"
      ],
      "text/plain": [
       "                  High         Low        Open       Close      Volume  \\\n",
       "Date                                                                     \n",
       "2019-12-04  312.119995  310.320007  310.700012  311.459991  49080000.0   \n",
       "2019-12-05  312.250000  310.579987  312.230011  312.019989  40709000.0   \n",
       "2019-12-06  315.309998  314.109985  314.119995  314.869995  48927000.0   \n",
       "2019-12-09  315.179993  313.799988  314.440002  313.880005  34838500.0   \n",
       "2019-12-10  314.549988  312.809998  313.820007  313.529999  52649800.0   \n",
       "\n",
       "             Adj Close  \n",
       "Date                    \n",
       "2019-12-04  296.815399  \n",
       "2019-12-05  297.349091  \n",
       "2019-12-06  300.065094  \n",
       "2019-12-09  299.121643  \n",
       "2019-12-10  298.788116  "
      ]
     },
     "execution_count": 362,
     "metadata": {},
     "output_type": "execute_result"
    }
   ],
   "source": [
    "sp500.head() "
   ]
  },
  {
   "cell_type": "code",
   "execution_count": 363,
   "metadata": {},
   "outputs": [
    {
     "data": {
      "text/html": [
       "<div>\n",
       "<style scoped>\n",
       "    .dataframe tbody tr th:only-of-type {\n",
       "        vertical-align: middle;\n",
       "    }\n",
       "\n",
       "    .dataframe tbody tr th {\n",
       "        vertical-align: top;\n",
       "    }\n",
       "\n",
       "    .dataframe thead th {\n",
       "        text-align: right;\n",
       "    }\n",
       "</style>\n",
       "<table border=\"1\" class=\"dataframe\">\n",
       "  <thead>\n",
       "    <tr style=\"text-align: right;\">\n",
       "      <th></th>\n",
       "      <th>High</th>\n",
       "      <th>Low</th>\n",
       "      <th>Open</th>\n",
       "      <th>Close</th>\n",
       "      <th>Volume</th>\n",
       "      <th>Adj Close</th>\n",
       "    </tr>\n",
       "    <tr>\n",
       "      <th>Date</th>\n",
       "      <th></th>\n",
       "      <th></th>\n",
       "      <th></th>\n",
       "      <th></th>\n",
       "      <th></th>\n",
       "      <th></th>\n",
       "    </tr>\n",
       "  </thead>\n",
       "  <tbody>\n",
       "    <tr>\n",
       "      <th>2022-11-28</th>\n",
       "      <td>400.809998</td>\n",
       "      <td>395.109985</td>\n",
       "      <td>399.089996</td>\n",
       "      <td>395.910004</td>\n",
       "      <td>67881600.0</td>\n",
       "      <td>395.910004</td>\n",
       "    </tr>\n",
       "    <tr>\n",
       "      <th>2022-11-29</th>\n",
       "      <td>397.299988</td>\n",
       "      <td>393.299988</td>\n",
       "      <td>396.049988</td>\n",
       "      <td>395.230011</td>\n",
       "      <td>52310000.0</td>\n",
       "      <td>395.230011</td>\n",
       "    </tr>\n",
       "    <tr>\n",
       "      <th>2022-11-30</th>\n",
       "      <td>407.679993</td>\n",
       "      <td>393.480011</td>\n",
       "      <td>395.489990</td>\n",
       "      <td>407.679993</td>\n",
       "      <td>144566700.0</td>\n",
       "      <td>407.679993</td>\n",
       "    </tr>\n",
       "    <tr>\n",
       "      <th>2022-12-01</th>\n",
       "      <td>410.000000</td>\n",
       "      <td>404.750000</td>\n",
       "      <td>408.769989</td>\n",
       "      <td>407.380005</td>\n",
       "      <td>76398200.0</td>\n",
       "      <td>407.380005</td>\n",
       "    </tr>\n",
       "    <tr>\n",
       "      <th>2022-12-02</th>\n",
       "      <td>407.859985</td>\n",
       "      <td>402.140015</td>\n",
       "      <td>402.250000</td>\n",
       "      <td>406.910004</td>\n",
       "      <td>85273900.0</td>\n",
       "      <td>406.910004</td>\n",
       "    </tr>\n",
       "  </tbody>\n",
       "</table>\n",
       "</div>"
      ],
      "text/plain": [
       "                  High         Low        Open       Close       Volume  \\\n",
       "Date                                                                      \n",
       "2022-11-28  400.809998  395.109985  399.089996  395.910004   67881600.0   \n",
       "2022-11-29  397.299988  393.299988  396.049988  395.230011   52310000.0   \n",
       "2022-11-30  407.679993  393.480011  395.489990  407.679993  144566700.0   \n",
       "2022-12-01  410.000000  404.750000  408.769989  407.380005   76398200.0   \n",
       "2022-12-02  407.859985  402.140015  402.250000  406.910004   85273900.0   \n",
       "\n",
       "             Adj Close  \n",
       "Date                    \n",
       "2022-11-28  395.910004  \n",
       "2022-11-29  395.230011  \n",
       "2022-11-30  407.679993  \n",
       "2022-12-01  407.380005  \n",
       "2022-12-02  406.910004  "
      ]
     },
     "execution_count": 363,
     "metadata": {},
     "output_type": "execute_result"
    }
   ],
   "source": [
    "sp500.tail()"
   ]
  },
  {
   "cell_type": "code",
   "execution_count": 364,
   "metadata": {},
   "outputs": [
    {
     "name": "stdout",
     "output_type": "stream",
     "text": [
      "High         0\n",
      "Low          0\n",
      "Open         0\n",
      "Close        0\n",
      "Volume       0\n",
      "Adj Close    0\n",
      "dtype: int64\n",
      "High         0\n",
      "Low          0\n",
      "Open         0\n",
      "Close        0\n",
      "Volume       0\n",
      "Adj Close    0\n",
      "dtype: int64\n"
     ]
    }
   ],
   "source": [
    "#Checking for the null values in both the dataframes\n",
    "print(amd.isnull().sum()); print(sp500.isnull().sum())"
   ]
  },
  {
   "cell_type": "code",
   "execution_count": 365,
   "metadata": {},
   "outputs": [
    {
     "name": "stdout",
     "output_type": "stream",
     "text": [
      "756\n",
      "756\n"
     ]
    }
   ],
   "source": [
    "#We now check if the sizes of both the dataframes are same\n",
    "print(amd.shape[0]);print(sp500.shape[0])"
   ]
  },
  {
   "cell_type": "markdown",
   "metadata": {},
   "source": [
    "### Visualizations"
   ]
  },
  {
   "cell_type": "code",
   "execution_count": 366,
   "metadata": {},
   "outputs": [
    {
     "data": {
      "text/plain": [
       "Text(0.5, 1.0, 'Advanced Micro Devices (AMD) Index close')"
      ]
     },
     "execution_count": 366,
     "metadata": {},
     "output_type": "execute_result"
    },
    {
     "data": {
      "image/png": "[encoded data removed]",
      "text/plain": [
       "<Figure size 1008x432 with 1 Axes>"
      ]
     },
     "metadata": {
      "needs_background": "light"
     },
     "output_type": "display_data"
    }
   ],
   "source": [
    "#Plotting the closing values of the AMD stock for last 3 years\n",
    "plt.figure(figsize = (14,6))\n",
    "plt.plot(amd['Close'])\n",
    "plt.title(\"Advanced Micro Devices (AMD) Index close\")"
   ]
  },
  {
   "cell_type": "code",
   "execution_count": 367,
   "metadata": {},
   "outputs": [],
   "source": [
    "#Computing the daily log returns for the AMD and creating the new column\n",
    "amd['LogR'] = np.log(amd['Close'].shift(-1)/amd['Close'])"
   ]
  },
  {
   "cell_type": "code",
   "execution_count": 368,
   "metadata": {},
   "outputs": [
    {
     "data": {
      "text/plain": [
       "High         0\n",
       "Low          0\n",
       "Open         0\n",
       "Close        0\n",
       "Volume       0\n",
       "Adj Close    0\n",
       "LogR         1\n",
       "dtype: int64"
      ]
     },
     "execution_count": 368,
     "metadata": {},
     "output_type": "execute_result"
    }
   ],
   "source": [
    "#We check the null values introduced because of shifting\n",
    "amd.isnull().sum()"
   ]
  },
  {
   "cell_type": "code",
   "execution_count": 369,
   "metadata": {},
   "outputs": [],
   "source": [
    "#removing the row with null value\n",
    "amd.dropna(axis = 0, inplace = True)"
   ]
  },
  {
   "cell_type": "code",
   "execution_count": 370,
   "metadata": {},
   "outputs": [
    {
     "data": {
      "text/plain": [
       "High         0\n",
       "Low          0\n",
       "Open         0\n",
       "Close        0\n",
       "Volume       0\n",
       "Adj Close    0\n",
       "LogR         0\n",
       "dtype: int64"
      ]
     },
     "execution_count": 370,
     "metadata": {},
     "output_type": "execute_result"
    }
   ],
   "source": [
    "#check null values again\n",
    "amd.isnull().sum()"
   ]
  },
  {
   "cell_type": "code",
   "execution_count": 371,
   "metadata": {},
   "outputs": [
    {
     "data": {
      "text/plain": [
       "Text(0.5, 1.0, 'AMD daily log returns distribution')"
      ]
     },
     "execution_count": 371,
     "metadata": {},
     "output_type": "execute_result"
    },
    {
     "data": {
      "image/png": "[encoded data removed]",
      "text/plain": [
       "<Figure size 648x504 with 1 Axes>"
      ]
     },
     "metadata": {
      "needs_background": "light"
     },
     "output_type": "display_data"
    }
   ],
   "source": [
    "#Plotting the distribution of the AMD daily Log returns\n",
    "plt.figure(figsize = (9,7))\n",
    "plt.hist(amd['LogR'],bins=30)\n",
    "plt.title('AMD daily log returns distribution')"
   ]
  },
  {
   "cell_type": "code",
   "execution_count": 372,
   "metadata": {},
   "outputs": [
    {
     "data": {
      "text/plain": [
       "755"
      ]
     },
     "execution_count": 372,
     "metadata": {},
     "output_type": "execute_result"
    }
   ],
   "source": [
    "amd.shape[0]"
   ]
  },
  {
   "cell_type": "code",
   "execution_count": 373,
   "metadata": {},
   "outputs": [
    {
     "data": {
      "text/plain": [
       "Text(0.5, 1.0, 'S&P 500 Index close')"
      ]
     },
     "execution_count": 373,
     "metadata": {},
     "output_type": "execute_result"
    },
    {
     "data": {
      "image/png": "[encoded data removed]",
      "text/plain": [
       "<Figure size 1008x432 with 1 Axes>"
      ]
     },
     "metadata": {
      "needs_background": "light"
     },
     "output_type": "display_data"
    }
   ],
   "source": [
    "#Plotting the closing values for S&P 500 for 3 years\n",
    "plt.figure(figsize = (14,6))\n",
    "plt.plot(sp500['Close'])\n",
    "plt.title(\"S&P 500 Index close\")"
   ]
  },
  {
   "cell_type": "code",
   "execution_count": 374,
   "metadata": {},
   "outputs": [],
   "source": [
    "#Creating the column of daily log returns for S&P500\n",
    "sp500['LogR'] = np.log(sp500['Close'].shift(-1)/sp500['Close'])"
   ]
  },
  {
   "cell_type": "code",
   "execution_count": 375,
   "metadata": {},
   "outputs": [
    {
     "data": {
      "text/plain": [
       "High         0\n",
       "Low          0\n",
       "Open         0\n",
       "Close        0\n",
       "Volume       0\n",
       "Adj Close    0\n",
       "LogR         1\n",
       "dtype: int64"
      ]
     },
     "execution_count": 375,
     "metadata": {},
     "output_type": "execute_result"
    }
   ],
   "source": [
    "#Checking the Null values\n",
    "sp500.isnull().sum()"
   ]
  },
  {
   "cell_type": "code",
   "execution_count": 376,
   "metadata": {},
   "outputs": [],
   "source": [
    "#Removing the null values\n",
    "sp500.dropna(axis = 0, inplace = True)"
   ]
  },
  {
   "cell_type": "code",
   "execution_count": 377,
   "metadata": {},
   "outputs": [
    {
     "data": {
      "text/plain": [
       "High         0\n",
       "Low          0\n",
       "Open         0\n",
       "Close        0\n",
       "Volume       0\n",
       "Adj Close    0\n",
       "LogR         0\n",
       "dtype: int64"
      ]
     },
     "execution_count": 377,
     "metadata": {},
     "output_type": "execute_result"
    }
   ],
   "source": [
    "#Again checking if there are any\n",
    "sp500.isnull().sum()"
   ]
  },
  {
   "cell_type": "code",
   "execution_count": 378,
   "metadata": {},
   "outputs": [
    {
     "data": {
      "text/plain": [
       "Text(0.5, 1.0, 'S&P 500 daily log returns distribution')"
      ]
     },
     "execution_count": 378,
     "metadata": {},
     "output_type": "execute_result"
    },
    {
     "data": {
      "image/png": "[encoded data removed]",
      "text/plain": [
       "<Figure size 648x504 with 1 Axes>"
      ]
     },
     "metadata": {
      "needs_background": "light"
     },
     "output_type": "display_data"
    }
   ],
   "source": [
    "#Plotting the distribution of daily log returns of S&P 500\n",
    "plt.figure(figsize = (9,7))\n",
    "plt.hist(sp500['LogR'],bins=30)\n",
    "plt.title('S&P 500 daily log returns distribution')"
   ]
  },
  {
   "cell_type": "code",
   "execution_count": 379,
   "metadata": {},
   "outputs": [
    {
     "name": "stdout",
     "output_type": "stream",
     "text": [
      "755\n"
     ]
    },
    {
     "data": {
      "text/plain": [
       "755"
      ]
     },
     "execution_count": 379,
     "metadata": {},
     "output_type": "execute_result"
    }
   ],
   "source": [
    "#Both the sizes are now same i.e. 755\n",
    "print(amd.shape[0])\n",
    "sp500.shape[0]"
   ]
  },
  {
   "cell_type": "markdown",
   "metadata": {},
   "source": [
    "### Coefficient of correlation between AMD and SnP500"
   ]
  },
  {
   "cell_type": "code",
   "execution_count": 380,
   "metadata": {},
   "outputs": [
    {
     "data": {
      "text/plain": [
       "0.6736604464954408"
      ]
     },
     "execution_count": 380,
     "metadata": {},
     "output_type": "execute_result"
    }
   ],
   "source": [
    "amd['LogR'].corr(sp500['LogR'])"
   ]
  },
  {
   "cell_type": "markdown",
   "metadata": {},
   "source": [
    "### Covariance between them to calculate the Beta and Variance of the SnP500 "
   ]
  },
  {
   "cell_type": "code",
   "execution_count": 381,
   "metadata": {},
   "outputs": [
    {
     "data": {
      "text/plain": [
       "0.0003716843270240496"
      ]
     },
     "execution_count": 381,
     "metadata": {},
     "output_type": "execute_result"
    }
   ],
   "source": [
    "covariance=amd['LogR'].cov(sp500['LogR'])\n",
    "covariance"
   ]
  },
  {
   "cell_type": "code",
   "execution_count": 382,
   "metadata": {},
   "outputs": [
    {
     "data": {
      "text/plain": [
       "0.00024866753219812194"
      ]
     },
     "execution_count": 382,
     "metadata": {},
     "output_type": "execute_result"
    }
   ],
   "source": [
    "variance_SP500=sp500['LogR'].var()\n",
    "variance_SP500"
   ]
  },
  {
   "cell_type": "markdown",
   "metadata": {},
   "source": [
    "### Beta "
   ]
  },
  {
   "cell_type": "code",
   "execution_count": 383,
   "metadata": {},
   "outputs": [
    {
     "data": {
      "text/plain": [
       "1.494703887308923"
      ]
     },
     "execution_count": 383,
     "metadata": {},
     "output_type": "execute_result"
    }
   ],
   "source": [
    "beta_amd=(covariance)/(variance_SP500)\n",
    "beta_amd"
   ]
  },
  {
   "cell_type": "markdown",
   "metadata": {},
   "source": [
    "#### Beta of the stock suggests that our stock is nearly 50% more volatile than the market. That means it will go 50% more up thann index and 50% more down than the index "
   ]
  },
  {
   "cell_type": "markdown",
   "metadata": {},
   "source": [
    "# Part 2"
   ]
  },
  {
   "cell_type": "markdown",
   "metadata": {},
   "source": [
    "### Calculating the confidence intervals 95% and 80%"
   ]
  },
  {
   "cell_type": "code",
   "execution_count": 384,
   "metadata": {},
   "outputs": [
    {
     "name": "stdout",
     "output_type": "stream",
     "text": [
      "AMD Stock's mean= 0.0008425459918996972\n",
      "AMD Stock's std= 0.034965186939624734\n"
     ]
    }
   ],
   "source": [
    "#calculating necessarry statistics\n",
    "amd_mean =np.mean(amd['LogR']) # mean of log returns\n",
    "print(\"AMD Stock's mean=\",amd_mean)\n",
    "amd_std = np.std(amd['LogR']) #standard dev of log returns\n",
    "print(\"AMD Stock's std=\",amd_std)"
   ]
  },
  {
   "cell_type": "code",
   "execution_count": 385,
   "metadata": {},
   "outputs": [
    {
     "name": "stdout",
     "output_type": "stream",
     "text": [
      "1.959963984540054\n",
      "1.2815515655446004\n"
     ]
    }
   ],
   "source": [
    "#getting the z values for both the intervals\n",
    "z05 = norm.ppf(1 - 0.05/2)\n",
    "print(z05)\n",
    "z20 = norm.ppf(1 - 0.2/2)\n",
    "print(z20)"
   ]
  },
  {
   "cell_type": "code",
   "execution_count": 386,
   "metadata": {},
   "outputs": [
    {
     "name": "stdout",
     "output_type": "stream",
     "text": [
      "3 years historical data with 95% confidence inverval: -0.001651534524640335    0.003336626508439729\n",
      "yes\n"
     ]
    }
   ],
   "source": [
    "#calculating the 95 % confidence interval\n",
    "lower_limit_95 = amd_mean-z05*(amd_std)/(np.sqrt(len((amd['LogR']))))\n",
    "upper_limit_95 = amd_mean+z05*(amd_std)/(np.sqrt(len((amd['LogR']))))\n",
    "\n",
    "#95% Confidence Interval \n",
    "print('3 years historical data with 95% confidence inverval:', lower_limit_95, '  ', upper_limit_95)\n",
    "#Check to see if AMD mean lies within the confidence interval\n",
    "if lower_limit_95 < amd_mean < upper_limit_95:\n",
    "    print ('yes') \n",
    "else:\n",
    "    print('no')"
   ]
  },
  {
   "cell_type": "code",
   "execution_count": 387,
   "metadata": {},
   "outputs": [
    {
     "name": "stdout",
     "output_type": "stream",
     "text": [
      "3 years of historical data with 80% confidence inverval: -0.0007882456021184143    0.002473337585917809\n",
      "yes\n"
     ]
    }
   ],
   "source": [
    "lower_limit_80 = amd_mean-z20*(amd_std)/(np.sqrt(len((amd['LogR']))))\n",
    "upper_limit_80 = amd_mean+z20*(amd_std)/(np.sqrt(len((amd['LogR']))))\n",
    "# 80% Confidence Interval \n",
    "print('3 years of historical data with 80% confidence inverval:', lower_limit_80,'  ',upper_limit_80)\n",
    "if lower_limit_80 < amd_mean < upper_limit_80:\n",
    "    print ('yes')\n",
    "else: \n",
    "    print('no')\n"
   ]
  },
  {
   "cell_type": "markdown",
   "metadata": {},
   "source": [
    "### Based on the results of both the 95 and 80 percent confidence intervals, we can not say that the population mean daily log return is positive as the lower limits are below 0."
   ]
  },
  {
   "cell_type": "markdown",
   "metadata": {},
   "source": [
    "# Part 3"
   ]
  },
  {
   "cell_type": "markdown",
   "metadata": {},
   "source": [
    "### Performing the hypothesis tests "
   ]
  },
  {
   "cell_type": "code",
   "execution_count": 388,
   "metadata": {},
   "outputs": [
    {
     "data": {
      "text/plain": [
       "-1.963115203500959"
      ]
     },
     "execution_count": 388,
     "metadata": {},
     "output_type": "execute_result"
    }
   ],
   "source": [
    "stats.t.ppf(q=0.025,  # t value for 5% significance below which we will reject null hyppothesis\n",
    "            df=754)  # Degrees of freedom"
   ]
  },
  {
   "cell_type": "code",
   "execution_count": 389,
   "metadata": {},
   "outputs": [
    {
     "data": {
      "text/plain": [
       "1.9631152035009585"
      ]
     },
     "execution_count": 389,
     "metadata": {},
     "output_type": "execute_result"
    }
   ],
   "source": [
    "stats.t.ppf(q=0.975, df=754)  #t value, above which we would reject null hypothesis"
   ]
  },
  {
   "cell_type": "code",
   "execution_count": 390,
   "metadata": {},
   "outputs": [
    {
     "data": {
      "text/plain": [
       "-1.6468770413228044"
      ]
     },
     "execution_count": 390,
     "metadata": {},
     "output_type": "execute_result"
    }
   ],
   "source": [
    "stats.t.ppf(q=0.05, df=754) # for 10  percent significance lower side"
   ]
  },
  {
   "cell_type": "code",
   "execution_count": 391,
   "metadata": {},
   "outputs": [
    {
     "data": {
      "text/plain": [
       "1.6468770413228038"
      ]
     },
     "execution_count": 391,
     "metadata": {},
     "output_type": "execute_result"
    }
   ],
   "source": [
    "stats.t.ppf(q=0.95, df=754) # for 10 percent upper side"
   ]
  },
  {
   "cell_type": "code",
   "execution_count": 392,
   "metadata": {},
   "outputs": [
    {
     "name": "stdout",
     "output_type": "stream",
     "text": [
      "Mean of S&P500 daily log return= 0.0003540677458758062\n",
      "Mean of AMD daily log return 0.0008425459918996972\n",
      "Difference in mean of daily log return between AMD and S&P500 0.000488478246023891\n"
     ]
    }
   ],
   "source": [
    "sp500_mean=np.mean(sp500['LogR'])\n",
    "mu  = sp500_mean\n",
    "mu0 = amd_mean\n",
    "diff_mean=mu0-mu\n",
    "print(\"Mean of S&P500 daily log return=\",mu)\n",
    "print(\"Mean of AMD daily log return\",mu0)\n",
    "print(\"Difference in mean of daily log return between AMD and S&P500\",diff_mean)"
   ]
  },
  {
   "cell_type": "code",
   "execution_count": 393,
   "metadata": {},
   "outputs": [
    {
     "name": "stdout",
     "output_type": "stream",
     "text": [
      "Ttest_1sampResult(statistic=0.2780585057088363, pvalue=0.7810436771830815)\n",
      "T-test result for 5% significance level:  Fail to reject null hypothesis\n",
      "T-test result for 10% significance level:  Fail to reject null hypothesis\n"
     ]
    }
   ],
   "source": [
    "\n",
    "#Null Hypothesis -> Difference in mean daily log return of AMD and S&P500 is equal to 0. \n",
    "#Alternate Hypothesis -> Difference in mean daily log return of AMD and S&P greater than 0.\n",
    "#H0: (mu0-mu=0) , where U=mean of S&P 500 daily log return and U0=mean of AMD daily log return\n",
    "#H1: (mu0-mu>0)\n",
    "\n",
    "#Performing One Sample T-test to investigate \n",
    "#if the mean of the daily log return of AMD is statistically different(greater or lesser) \n",
    "#from a known hypothesised S&P500 mean daily log return\n",
    "#Assuming the data is normally distributed to apply t-test'''\n",
    "ttest_results = ttest_1samp(a=amd['LogR'],popmean=diff_mean)\n",
    "print(ttest_results)\n",
    "\n",
    "\n",
    "def test_result(p, ref_pvalue=0.05):\n",
    "    \n",
    "    if p<ref_pvalue:\n",
    "        return \"Reject null hypothesis\"\n",
    "    else:\n",
    "        return \"Fail to reject null hypothesis\"\n",
    "\n",
    "\n",
    "\n",
    "\n",
    "#T-test result for 5% significance level or 95% confidence level\n",
    "print('T-test result for 5% significance level: ',test_result(ttest_results[1],0.05))\n",
    "\n",
    "#T-test result for 10% significance level or 90% confidence level\n",
    "print('T-test result for 10% significance level: ',test_result(ttest_results[1],0.10))"
   ]
  },
  {
   "cell_type": "markdown",
   "metadata": {},
   "source": [
    "#### The test statistic is t is 0.279, this tells us how much the sample mean deviates from the null hypothesis.\n",
    "\n",
    "#### The test's p-value of 0.781, which is way high, and we have less evidence against null hypothesis, which means there is a 78% chance we would see sample data this far apart if the two groups tested are actually identical.\n",
    "\n",
    "#### The t statistic is also within the 5% and 10% (critical t values) we calculated above. Which are |1.96| and |1.64| respectively so we can't reject null hypothesis.\n",
    "\n",
    "#### Also on top of that\n",
    "\n",
    "#### At 5 percent significance level, we would fail to reject the null hypothesis, since p-value is greater than 5% significance value.\n",
    "\n",
    "#### Similarly for 10% significance level, we would fail to reject the null hypothesis since p-value is greater than 10% significance value.\n",
    "\n",
    "#### We fail to reject the null hypothesis at both 5% and 10% siginifcance levels, that is the difference in mean in log daily return for AMD and S&P500 is not statistically significant. "
   ]
  },
  {
   "cell_type": "markdown",
   "metadata": {},
   "source": [
    "# Part 3: Another Test"
   ]
  },
  {
   "cell_type": "markdown",
   "metadata": {},
   "source": [
    "### Paired samples t -test"
   ]
  },
  {
   "cell_type": "code",
   "execution_count": 394,
   "metadata": {},
   "outputs": [
    {
     "data": {
      "text/plain": [
       "0.027008972841142388"
      ]
     },
     "execution_count": 394,
     "metadata": {},
     "output_type": "execute_result"
    }
   ],
   "source": [
    "diff_mean_R =(amd['LogR']-sp500['LogR'])\n",
    "diff_R_std =diff_mean_R.std() #standard deviation of the differences in log returns\n",
    "diff_R_std "
   ]
  },
  {
   "cell_type": "code",
   "execution_count": 395,
   "metadata": {},
   "outputs": [
    {
     "data": {
      "text/plain": [
       "0.4969476431027288"
      ]
     },
     "execution_count": 395,
     "metadata": {},
     "output_type": "execute_result"
    }
   ],
   "source": [
    "# We assume same null and alternative hypothesis here as previous\n",
    "t = diff_mean/(diff_R_std/np.sqrt(len(amd))) # t statistic\n",
    "t"
   ]
  },
  {
   "cell_type": "code",
   "execution_count": 396,
   "metadata": {},
   "outputs": [
    {
     "data": {
      "text/plain": [
       "0.690387013461016"
      ]
     },
     "execution_count": 396,
     "metadata": {},
     "output_type": "execute_result"
    }
   ],
   "source": [
    "p= norm.cdf(t)  #p value\n",
    "p"
   ]
  },
  {
   "cell_type": "code",
   "execution_count": 397,
   "metadata": {},
   "outputs": [
    {
     "data": {
      "text/plain": [
       "Ttest_relResult(statistic=0.4969476431027288, pvalue=0.6193708355336663)"
      ]
     },
     "execution_count": 397,
     "metadata": {},
     "output_type": "execute_result"
    }
   ],
   "source": [
    "stats.ttest_rel(amd['LogR'], sp500['LogR']) #using the inbuilt library we can verify"
   ]
  },
  {
   "cell_type": "markdown",
   "metadata": {},
   "source": [
    "### In this case also we have the p value greater than 5% and 10%. So we fail to reject the null hypothesis and there is no significant difference between the log returns of SnP500 and AMD stock\n",
    "### Also t statistic is within the critical values 1.96 and 1.64.\n",
    "### Although we have deviation of sample mean 0.49 which is less in this case too."
   ]
  }
 ],
 "metadata": {
  "kernelspec": {
   "display_name": "Python 3 (ipykernel)",
   "language": "python",
   "name": "python3"
  },
  "language_info": {
   "codemirror_mode": {
    "name": "ipython",
    "version": 3
   },
   "file_extension": ".py",
   "mimetype": "text/x-python",
   "name": "python",
   "nbconvert_exporter": "python",
   "pygments_lexer": "ipython3",
   "version": "3.8.3"
  },
  "vscode": {
   "interpreter": {
    "hash": "939480ed579cbcc9bd95c0bb2f0a271d068ec362d36f1415ed941c7dadb52340"
   }
  }
 },
 "nbformat": 4,
 "nbformat_minor": 4
}
